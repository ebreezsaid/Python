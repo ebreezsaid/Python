{
 "cells": [
  {
   "cell_type": "code",
   "execution_count": 13,
   "id": "bfdd592c",
   "metadata": {},
   "outputs": [
    {
     "data": {
      "text/plain": [
       "[7, 8, 6, 100, 7, 9]"
      ]
     },
     "execution_count": 13,
     "metadata": {},
     "output_type": "execute_result"
    }
   ],
   "source": [
    "L=[7,8,6,100,7,9]\n",
    "L"
   ]
  },
  {
   "cell_type": "code",
   "execution_count": 3,
   "id": "bb723ac2",
   "metadata": {},
   "outputs": [],
   "source": [
    "import numpy as np"
   ]
  },
  {
   "cell_type": "code",
   "execution_count": 14,
   "id": "dcb502b0",
   "metadata": {},
   "outputs": [
    {
     "data": {
      "text/plain": [
       "22.833333333333332"
      ]
     },
     "execution_count": 14,
     "metadata": {},
     "output_type": "execute_result"
    }
   ],
   "source": [
    "avg=np.average(L)\n",
    "avg"
   ]
  },
  {
   "cell_type": "code",
   "execution_count": 15,
   "id": "60105190",
   "metadata": {},
   "outputs": [
    {
     "data": {
      "text/plain": [
       "34.52253692235777"
      ]
     },
     "execution_count": 15,
     "metadata": {},
     "output_type": "execute_result"
    }
   ],
   "source": [
    "std=np.std(L)\n",
    "std"
   ]
  },
  {
   "cell_type": "code",
   "execution_count": 19,
   "id": "faf6a232",
   "metadata": {},
   "outputs": [
    {
     "name": "stdout",
     "output_type": "stream",
     "text": [
      "-0.4586375957521018\n",
      "-0.4296710107572322\n",
      "-0.48760418074697137\n",
      "2.23525480877077\n",
      "-0.4586375957521018\n",
      "-0.4007044257623626\n"
     ]
    }
   ],
   "source": [
    "#outler\n",
    "for z in L:\n",
    "    score=(z-avg)/std\n",
    "    print(score)"
   ]
  },
  {
   "cell_type": "code",
   "execution_count": 23,
   "id": "4a9335dd",
   "metadata": {},
   "outputs": [
    {
     "name": "stdout",
     "output_type": "stream",
     "text": [
      "{8, 9, 7}\n",
      "[8, 9, 7]\n"
     ]
    }
   ],
   "source": [
    "LL=[7,8,7,9,7,8]\n",
    "S=set(LL)\n",
    "print(S)\n",
    "SL=list(S)\n",
    "print(SL)"
   ]
  },
  {
   "cell_type": "code",
   "execution_count": 30,
   "id": "2e11fb9c",
   "metadata": {},
   "outputs": [
    {
     "name": "stdout",
     "output_type": "stream",
     "text": [
      "min=  3\n",
      "max=  94\n",
      "avg=  44.6\n",
      "x=  0.9010989010989011\n",
      "x=  1.0\n",
      "x=  0.25274725274725274\n",
      "x=  0.4725274725274725\n",
      "x=  0.4835164835164835\n",
      "x=  0.0\n",
      "x=  0.02197802197802198\n",
      "x=  0.4835164835164835\n",
      "x=  0.5164835164835165\n",
      "x=  0.43956043956043955\n"
     ]
    }
   ],
   "source": [
    "#normaliztion ---> y=(x-min)/(max-min)\n",
    "#standardization --> y=(x-mean)/std\n",
    "\n",
    "LIST=[85,94,26,46,47,3,5,47,50,43]\n",
    "mi=min(LIST)\n",
    "print(\"min= \",mi)\n",
    "ma=max(LIST)\n",
    "print(\"max= \",ma)\n",
    "avg=np.average(LIST)\n",
    "print(\"avg= \",avg)\n",
    "\n",
    "for i in LIST:\n",
    "    x=(i-mi)/(ma-mi)\n",
    "    print(\"x= \",x)"
   ]
  }
 ],
 "metadata": {
  "kernelspec": {
   "display_name": "Python 3 (ipykernel)",
   "language": "python",
   "name": "python3"
  },
  "language_info": {
   "codemirror_mode": {
    "name": "ipython",
    "version": 3
   },
   "file_extension": ".py",
   "mimetype": "text/x-python",
   "name": "python",
   "nbconvert_exporter": "python",
   "pygments_lexer": "ipython3",
   "version": "3.10.9"
  }
 },
 "nbformat": 4,
 "nbformat_minor": 5
}
