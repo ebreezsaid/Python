{
 "cells": [
  {
   "cell_type": "code",
   "execution_count": 12,
   "id": "9e8dae13",
   "metadata": {},
   "outputs": [
    {
     "data": {
      "text/plain": [
       "1.3333333333333333"
      ]
     },
     "execution_count": 12,
     "metadata": {},
     "output_type": "execute_result"
    }
   ],
   "source": [
    "o = [7,5,2,0,1,8]\n",
    "f = [6,5,0,-1,0,7]\n",
    "sum=0\n",
    "for n in range(6):\n",
    "    sum=sum+(f[n] - o[n])**2\n",
    "MSE=sum/6\n",
    "MSE"
   ]
  }
 ],
 "metadata": {
  "kernelspec": {
   "display_name": "Python 3 (ipykernel)",
   "language": "python",
   "name": "python3"
  },
  "language_info": {
   "codemirror_mode": {
    "name": "ipython",
    "version": 3
   },
   "file_extension": ".py",
   "mimetype": "text/x-python",
   "name": "python",
   "nbconvert_exporter": "python",
   "pygments_lexer": "ipython3",
   "version": "3.10.9"
  }
 },
 "nbformat": 4,
 "nbformat_minor": 5
}
