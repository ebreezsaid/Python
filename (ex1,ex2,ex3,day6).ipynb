{
 "cells": [
  {
   "cell_type": "markdown",
   "id": "950f3d62",
   "metadata": {},
   "source": [
    "# EX1"
   ]
  },
  {
   "cell_type": "code",
   "execution_count": 8,
   "id": "54e8e49f",
   "metadata": {},
   "outputs": [
    {
     "name": "stdout",
     "output_type": "stream",
     "text": [
      "Enter the time you left the office: 30\n",
      "0\n",
      "On time\n"
     ]
    }
   ],
   "source": [
    "time = 30  \n",
    "\n",
    "left_office = int(input(\"Enter the time you left the office: \")) \n",
    "difference = time - left_office\n",
    "print(difference)  \n",
    "if difference == 0:\n",
    "    print(\"On time\") \n",
    "elif difference > 0:\n",
    "    print(\"Early\")\n",
    "else:\n",
    "    print(\"Late\") \n",
    "\n",
    "\n"
   ]
  },
  {
   "cell_type": "markdown",
   "id": "d906fa49",
   "metadata": {},
   "source": [
    "# EX2"
   ]
  },
  {
   "cell_type": "code",
   "execution_count": 32,
   "id": "e945b9db",
   "metadata": {},
   "outputs": [
    {
     "name": "stdout",
     "output_type": "stream",
     "text": [
      " Chef can play 3  chess games in 1 hours.\n",
      " Chef can play 30  chess games in 10 hours.\n",
      " Chef can play 21  chess games in 7 hours.\n",
      " Chef can play 9  chess games in 3 hours.\n"
     ]
    }
   ],
   "source": [
    "# Test cases\n",
    "N = [1, 10, 7, 3]\n",
    "\n",
    "for i in range(len(N)):\n",
    "    minutes = N[i] * 60\n",
    "    max_games = minutes // 20\n",
    "    print(f\" Chef can play {max_games}  chess games in {N[i]} hours.\")\n",
    "\n",
    "\n"
   ]
  },
  {
   "cell_type": "markdown",
   "id": "43355ef6",
   "metadata": {},
   "source": [
    "# EX3"
   ]
  },
  {
   "cell_type": "code",
   "execution_count": 38,
   "id": "87a0ad8a",
   "metadata": {},
   "outputs": [
    {
     "name": "stdout",
     "output_type": "stream",
     "text": [
      "enter the number of friend :14\n",
      "enter the price of burger : 14\n",
      "enter how many rupees you have : 150\n",
      "No Chef doesn't have enough money to buy for all friends\n"
     ]
    }
   ],
   "source": [
    "f = int(input(\"enter the number of friend :\"))\n",
    "b = int(input(\"enter the price of burger : \"))\n",
    "k = int(input(\"enter how many rupees you have : \"))\n",
    "\n",
    "cost = f * b\n",
    "\n",
    "if cost <= k:\n",
    "    print(\"Yes Chef can buy burgers for all friends\")\n",
    "else:\n",
    "    print(\"No Chef doesn't have enough money to buy for all friends\")"
   ]
  }
 ],
 "metadata": {
  "kernelspec": {
   "display_name": "Python 3 (ipykernel)",
   "language": "python",
   "name": "python3"
  },
  "language_info": {
   "codemirror_mode": {
    "name": "ipython",
    "version": 3
   },
   "file_extension": ".py",
   "mimetype": "text/x-python",
   "name": "python",
   "nbconvert_exporter": "python",
   "pygments_lexer": "ipython3",
   "version": "3.10.9"
  }
 },
 "nbformat": 4,
 "nbformat_minor": 5
}
