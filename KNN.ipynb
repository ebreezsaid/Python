{
 "cells": [
  {
   "cell_type": "code",
   "execution_count": 12,
   "id": "acbadc99",
   "metadata": {},
   "outputs": [
    {
     "name": "stdout",
     "output_type": "stream",
     "text": [
      "enter number of cigarettes : 3\n",
      "enter number of weight : 70\n",
      "[4.0, 30.265491900843113, 30.0, 30.066592756745816]\n",
      "you are belong to  Bad\n"
     ]
    }
   ],
   "source": [
    "import math\n",
    "c = [7,7,3,1]\n",
    "w = [70,40,40,40]\n",
    "h = [\"Bad\",\"Bad\",\"Good\",\"Good\"]\n",
    "\n",
    "newc= int(input(\"enter number of cigarettes : \"))\n",
    "neww= int(input(\"enter number of weight : \"))\n",
    "\n",
    "dis=[]\n",
    "\n",
    "for i in range(len(c)):\n",
    "    d= math.sqrt((newc-c[i])**2+(neww-w[i])**2)\n",
    "    dis.append(d)\n",
    "    \n",
    "print(dis)\n",
    "m=min(dis)\n",
    "ind=dis.index(m)\n",
    "print(\"you are belong to \",h[ind])"
   ]
  }
 ],
 "metadata": {
  "kernelspec": {
   "display_name": "Python 3 (ipykernel)",
   "language": "python",
   "name": "python3"
  },
  "language_info": {
   "codemirror_mode": {
    "name": "ipython",
    "version": 3
   },
   "file_extension": ".py",
   "mimetype": "text/x-python",
   "name": "python",
   "nbconvert_exporter": "python",
   "pygments_lexer": "ipython3",
   "version": "3.10.9"
  }
 },
 "nbformat": 4,
 "nbformat_minor": 5
}
