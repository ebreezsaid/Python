{
 "cells": [
  {
   "cell_type": "code",
   "execution_count": 2,
   "id": "ab50919c",
   "metadata": {},
   "outputs": [
    {
     "name": "stdout",
     "output_type": "stream",
     "text": [
      "Enter the number on Chef dice: 3\n",
      "Enter the number on Chefina dice: 4\n",
      "The turn is good.\n"
     ]
    }
   ],
   "source": [
    "\n",
    "x = int(input(\"Enter the number on Chef dice: \"))\n",
    "y = int(input(\"Enter the number on Chefina dice: \"))\n",
    "\n",
    "summ = x + y\n",
    "\n",
    "if summ > 6:\n",
    "    print(\"The turn is good.\")\n",
    "else:\n",
    "    print(\"The turn is not good.\")"
   ]
  }
 ],
 "metadata": {
  "kernelspec": {
   "display_name": "Python 3 (ipykernel)",
   "language": "python",
   "name": "python3"
  },
  "language_info": {
   "codemirror_mode": {
    "name": "ipython",
    "version": 3
   },
   "file_extension": ".py",
   "mimetype": "text/x-python",
   "name": "python",
   "nbconvert_exporter": "python",
   "pygments_lexer": "ipython3",
   "version": "3.10.9"
  }
 },
 "nbformat": 4,
 "nbformat_minor": 5
}
