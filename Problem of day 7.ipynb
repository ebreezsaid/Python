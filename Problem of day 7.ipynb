{
 "cells": [
  {
   "cell_type": "code",
   "execution_count": 1,
   "id": "a45b4012",
   "metadata": {},
   "outputs": [
    {
     "name": "stdout",
     "output_type": "stream",
     "text": [
      "Enter the number of elements in the array: 6\n",
      "Enter element at index 0:16\n",
      "Enter element at index 1:17\n",
      "Enter element at index 2:4\n",
      "Enter element at index 3:3\n",
      "Enter element at index 4:5\n",
      "Enter element at index 5:2\n",
      "Leaders in the array: [17, 5, 2]\n"
     ]
    }
   ],
   "source": [
    "\n",
    "n = int(input(\"Enter the number of elements in the array: \"))\n",
    "A = []\n",
    "for i in range(n):\n",
    "    num = int(input(\"Enter element at index {}:\".format(i)))\n",
    "    A.append(num)\n",
    "\n",
    "max_right = A[n - 1]\n",
    "leaders = [max_right]\n",
    "\n",
    "for i in range(n - 2, -1, -1):\n",
    "    if A[i] >= max_right:\n",
    "        max_right = A[i]\n",
    "        leaders.append(max_right)\n",
    "\n",
    "leaders.reverse()\n",
    "\n",
    "print(\"Leaders in the array:\", leaders)\n"
   ]
  }
 ],
 "metadata": {
  "kernelspec": {
   "display_name": "Python 3 (ipykernel)",
   "language": "python",
   "name": "python3"
  },
  "language_info": {
   "codemirror_mode": {
    "name": "ipython",
    "version": 3
   },
   "file_extension": ".py",
   "mimetype": "text/x-python",
   "name": "python",
   "nbconvert_exporter": "python",
   "pygments_lexer": "ipython3",
   "version": "3.10.9"
  }
 },
 "nbformat": 4,
 "nbformat_minor": 5
}
