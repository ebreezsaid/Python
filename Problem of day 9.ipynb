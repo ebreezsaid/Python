{
 "cells": [
  {
   "cell_type": "code",
   "execution_count": 1,
   "id": "ed93805e",
   "metadata": {},
   "outputs": [
    {
     "name": "stdout",
     "output_type": "stream",
     "text": [
      "enter any word: WomensDAY\n",
      "There are 4 substrings that satisfy the condition.\n"
     ]
    }
   ],
   "source": [
    "def count_equal_case_substrings(s):\n",
    "    count = 0\n",
    "    \n",
    "    for i in range(len(s)):\n",
    "        lower_count = 0\n",
    "        upper_count = 0\n",
    "        \n",
    "        for j in range(i, len(s)):\n",
    "            if s[j].islower():\n",
    "                lower_count += 1\n",
    "            else:\n",
    "                upper_count += 1\n",
    "            \n",
    "            if lower_count == upper_count:\n",
    "                count += 1\n",
    "    \n",
    "    return count\n",
    "\n",
    "# Example usage\n",
    "#s = 'WomensDAY'\n",
    "s= input(\"enter any word: \")\n",
    "result = count_equal_case_substrings(s)\n",
    "print(f\"There are {result} substrings that satisfy the condition.\")\n"
   ]
  },
  {
   "cell_type": "code",
   "execution_count": null,
   "id": "931374d0",
   "metadata": {},
   "outputs": [],
   "source": []
  }
 ],
 "metadata": {
  "kernelspec": {
   "display_name": "Python 3 (ipykernel)",
   "language": "python",
   "name": "python3"
  },
  "language_info": {
   "codemirror_mode": {
    "name": "ipython",
    "version": 3
   },
   "file_extension": ".py",
   "mimetype": "text/x-python",
   "name": "python",
   "nbconvert_exporter": "python",
   "pygments_lexer": "ipython3",
   "version": "3.11.4"
  }
 },
 "nbformat": 4,
 "nbformat_minor": 5
}
