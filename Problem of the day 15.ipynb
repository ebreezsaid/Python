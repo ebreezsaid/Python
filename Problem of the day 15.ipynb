{
 "cells": [
  {
   "cell_type": "code",
   "execution_count": 1,
   "id": "53d8d9ac",
   "metadata": {},
   "outputs": [
    {
     "name": "stdout",
     "output_type": "stream",
     "text": [
      "enter anything : hello\n",
      "Output: h\n"
     ]
    }
   ],
   "source": [
    "\n",
    "char_count = {}\n",
    "\n",
    "# Input string\n",
    "input_str = input('enter anything : ')\n",
    "\n",
    "# Count the occurrences of each character in the string\n",
    "for char in input_str:\n",
    "    if char in char_count:\n",
    "        char_count[char] += 1\n",
    "    else:\n",
    "        char_count[char] = 1\n",
    "\n",
    "# Find the first non-repeating character\n",
    "for char in input_str:\n",
    "    if char_count[char] == 1:\n",
    "        output = char\n",
    "        break\n",
    "else:\n",
    "    output = '$'  # If no non-repeating character is found\n",
    "\n",
    "print(\"Output:\", output)  # Output: h\n"
   ]
  }
 ],
 "metadata": {
  "kernelspec": {
   "display_name": "Python 3 (ipykernel)",
   "language": "python",
   "name": "python3"
  },
  "language_info": {
   "codemirror_mode": {
    "name": "ipython",
    "version": 3
   },
   "file_extension": ".py",
   "mimetype": "text/x-python",
   "name": "python",
   "nbconvert_exporter": "python",
   "pygments_lexer": "ipython3",
   "version": "3.11.4"
  }
 },
 "nbformat": 4,
 "nbformat_minor": 5
}
