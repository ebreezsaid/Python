{
  "nbformat": 4,
  "nbformat_minor": 0,
  "metadata": {
    "colab": {
      "provenance": []
    },
    "kernelspec": {
      "name": "python3",
      "display_name": "Python 3"
    },
    "language_info": {
      "name": "python"
    }
  },
  "cells": [
    {
      "cell_type": "code",
      "execution_count": null,
      "metadata": {
        "id": "s6N1hAtGPecm",
        "colab": {
          "base_uri": "https://localhost:8080/"
        },
        "outputId": "6dd0bee5-e1b7-4b92-c001-79c25bd9929b"
      },
      "outputs": [
        {
          "output_type": "stream",
          "name": "stdout",
          "text": [
            "Requirement already satisfied: requests in /usr/local/lib/python3.10/dist-packages (2.31.0)\n",
            "Requirement already satisfied: charset-normalizer<4,>=2 in /usr/local/lib/python3.10/dist-packages (from requests) (3.2.0)\n",
            "Requirement already satisfied: idna<4,>=2.5 in /usr/local/lib/python3.10/dist-packages (from requests) (3.4)\n",
            "Requirement already satisfied: urllib3<3,>=1.21.1 in /usr/local/lib/python3.10/dist-packages (from requests) (2.0.4)\n",
            "Requirement already satisfied: certifi>=2017.4.17 in /usr/local/lib/python3.10/dist-packages (from requests) (2023.7.22)\n",
            "Requirement already satisfied: beautifulsoup4 in /usr/local/lib/python3.10/dist-packages (4.11.2)\n",
            "Requirement already satisfied: soupsieve>1.2 in /usr/local/lib/python3.10/dist-packages (from beautifulsoup4) (2.4.1)\n"
          ]
        }
      ],
      "source": [
        "!pip install requests\n",
        "!pip install beautifulsoup4"
      ]
    },
    {
      "cell_type": "code",
      "source": [
        "import time\n",
        "import csv\n",
        "import requests\n",
        "from bs4 import BeautifulSoup"
      ],
      "metadata": {
        "id": "gaMDiozhQP58"
      },
      "execution_count": null,
      "outputs": []
    },
    {
      "cell_type": "code",
      "source": [
        "webpage= 'https://www.linkedin.com/jobs/search?keywords=AI&location=Oman&geoId=103619019&trk=public_jobs_jobs-search-bar_search-submit&position=1&pageNum=0'"
      ],
      "metadata": {
        "id": "4dHEfNiKQP-v"
      },
      "execution_count": null,
      "outputs": []
    },
    {
      "cell_type": "code",
      "source": [
        "file = open('linkedin-jobs.csv', 'a')\n",
        "writer = csv.writer(file)\n",
        "writer.writerow(['Info','Media','Title', 'Company', 'Location','Time', 'Apply'])\n",
        "\n",
        "def linkedin_scraper(webpage, start=0):\n",
        "  if start> 0:\n",
        "    next_page = webpage + '&start={}'.format(start)\n",
        "  else:\n",
        "    next_page = webpage\n",
        "  print(str(next_page))\n",
        "  response = requests.get(str(next_page))\n",
        "  soup = BeautifulSoup(response.content,'html.parser')\n",
        "\n",
        "  jobs = soup.find_all('div', class_='base-card relative w-full hover:no-underline focus:no-underline base-card--link base-search-card base-search-card--link job-search-card')\n",
        "  for job in jobs:\n",
        "    job_info =job.find('div', class_='base-search-card__info').text.strip()\n",
        "    job_media =job.find('div', class_='search-entity-media').text.strip()\n",
        "    job_title = job.find('h3', class_='base-search-card__title').text.strip()\n",
        "    job_company = job.find('h4', class_='base-search-card__subtitle').text.strip()\n",
        "    job_location = job.find('span', class_='job-search-card__location').text.strip()\n",
        "    job_time =job.find('time',class_='job-search-card__listdate').text.strip()\n",
        "    job_link = job.find('a', class_='base-card__full-link')['href']\n",
        "\n",
        "    writer.writerow([\n",
        "    job_info.encode('utf-8'),\n",
        "    job_media.encode('utf-8'),\n",
        "    job_title.encode('utf-8'),\n",
        "    job_company.encode('utf-8'),\n",
        "    job_location.encode('utf-8'),\n",
        "    job_time.encode('utf-8'),\n",
        "    job_link.encode('utf-8')\n",
        "    ])\n",
        "\n",
        "  print(job_title)\n",
        "  print('Data updated')\n",
        "\n",
        "\n",
        "\n"
      ],
      "metadata": {
        "id": "YL0mfiWxQQB1"
      },
      "execution_count": null,
      "outputs": []
    },
    {
      "cell_type": "code",
      "source": [
        "for i in range(5):\n",
        "  linkedin_scraper(webpage, i*25)\n",
        "  # be polite with the website to avoid banning\n",
        "  time.sleep(3)\n",
        "file.close()\n",
        "print('File closed')"
      ],
      "metadata": {
        "colab": {
          "base_uri": "https://localhost:8080/"
        },
        "id": "GQPRJGeYpRjx",
        "outputId": "98ded08d-f527-48ec-d8fe-6f25db7c7d01"
      },
      "execution_count": null,
      "outputs": [
        {
          "output_type": "stream",
          "name": "stdout",
          "text": [
            "https://www.linkedin.com/jobs/search?keywords=AI&location=Oman&geoId=103619019&trk=public_jobs_jobs-search-bar_search-submit&position=1&pageNum=0\n",
            "Engineering Manager, Commercial Systems\n",
            "Data updated\n",
            "https://www.linkedin.com/jobs/search?keywords=AI&location=Oman&geoId=103619019&trk=public_jobs_jobs-search-bar_search-submit&position=1&pageNum=0&start=25\n",
            "Developer Relations Manager\n",
            "Data updated\n",
            "https://www.linkedin.com/jobs/search?keywords=AI&location=Oman&geoId=103619019&trk=public_jobs_jobs-search-bar_search-submit&position=1&pageNum=0&start=50\n",
            "Engineering Manager, Commercial Systems\n",
            "Data updated\n",
            "https://www.linkedin.com/jobs/search?keywords=AI&location=Oman&geoId=103619019&trk=public_jobs_jobs-search-bar_search-submit&position=1&pageNum=0&start=75\n",
            "Developer Relations Manager\n",
            "Data updated\n",
            "https://www.linkedin.com/jobs/search?keywords=AI&location=Oman&geoId=103619019&trk=public_jobs_jobs-search-bar_search-submit&position=1&pageNum=0&start=100\n",
            "Engineering Manager, Commercial Systems\n",
            "Data updated\n",
            "File closed\n"
          ]
        }
      ]
    },
    {
      "cell_type": "code",
      "source": [],
      "metadata": {
        "id": "GZ_QEKCbpU06"
      },
      "execution_count": null,
      "outputs": []
    },
    {
      "cell_type": "code",
      "source": [],
      "metadata": {
        "id": "T6WtXFdwQQE4"
      },
      "execution_count": null,
      "outputs": []
    },
    {
      "cell_type": "code",
      "source": [],
      "metadata": {
        "id": "qqIrIDdwQQHW"
      },
      "execution_count": null,
      "outputs": []
    }
  ]
}