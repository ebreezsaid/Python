{
 "cells": [
  {
   "cell_type": "code",
   "execution_count": 1,
   "id": "1d9fd3ec",
   "metadata": {},
   "outputs": [
    {
     "data": {
      "text/plain": [
       "[{'country': 'Oman', 'capital': 'Muscat', 'languages': 'Arabic'},\n",
       " {'country': 'India', 'capital': 'New Delhi', 'languages': 'Hindi'},\n",
       " {'country': 'Saudi Arabia', 'capital': 'Riyadh', 'languages': 'Arabic'}]"
      ]
     },
     "execution_count": 1,
     "metadata": {},
     "output_type": "execute_result"
    }
   ],
   "source": [
    "import json\n",
    "#read json file\n",
    "with open('ex2.json', 'r') as ex2:\n",
    "    country = json.load(ex2)\n",
    "\n",
    "country"
   ]
  },
  {
   "cell_type": "code",
   "execution_count": 2,
   "id": "84e43bba",
   "metadata": {},
   "outputs": [
    {
     "name": "stdout",
     "output_type": "stream",
     "text": [
      "[{'country': 'Oman', 'capital': 'Muscat', 'languages': 'Arabic'}, {'country': 'India', 'capital': 'New Delhi', 'languages': 'Hindi'}, {'country': 'Saudi Arabia', 'capital': 'Riyadh', 'languages': 'Arabic'}, {'country': 'UAE', 'capital': 'Abu Dhabi', 'languages': 'Arabic'}]\n"
     ]
    }
   ],
   "source": [
    "# add new item to json file\n",
    "newcountry = {\n",
    "    \"country\": \"UAE\",\n",
    "    \"capital\": \"Abu Dhabi\",\n",
    "    \"languages\": \"Arabic\"\n",
    "}\n",
    "\n",
    "country.append(newcountry)\n",
    "\n",
    "\n",
    "with open('ex2.json', 'w') as ex2:\n",
    "    json.dump(country, ex2)\n",
    "\n",
    "\n",
    "print(country)"
   ]
  },
  {
   "cell_type": "code",
   "execution_count": 3,
   "id": "e08e08eb",
   "metadata": {},
   "outputs": [
    {
     "name": "stdout",
     "output_type": "stream",
     "text": [
      "enter the name of a new country: Qater\n",
      "enter the capital of the new country: Doha\n",
      "enter the languages spoken in the new country: Arabic\n"
     ]
    }
   ],
   "source": [
    "# User enter new country\n",
    "newcountry = input(\"enter the name of a new country: \")\n",
    "newcapital = input(\"enter the capital of the new country: \")\n",
    "newlanguages = input(\"enter the languages spoken in the new country: \")\n",
    "\n"
   ]
  },
  {
   "cell_type": "code",
   "execution_count": 4,
   "id": "87b209c8",
   "metadata": {},
   "outputs": [
    {
     "name": "stdout",
     "output_type": "stream",
     "text": [
      "[{'country': 'Oman', 'capital': 'Muscat', 'languages': 'Arabic'}, {'country': 'India', 'capital': 'New Delhi', 'languages': 'Hindi'}, {'country': 'Saudi Arabia', 'capital': 'Riyadh', 'languages': 'Arabic'}, {'country': 'UAE', 'capital': 'Abu Dhabi', 'languages': 'Arabic'}, {'country': 'Qater', 'capital': 'Doha', 'languages': 'Arabic'}]\n"
     ]
    }
   ],
   "source": [
    "# Add user new country\n",
    "newusercountry = {\n",
    "    \"country\": newcountry,\n",
    "    \"capital\": newcapital,\n",
    "    \"languages\": newlanguages\n",
    "}\n",
    "\n",
    "country.append(newusercountry)\n",
    "\n",
    "# insert new country to json file\n",
    "with open('ex2.json', 'w') as ex2:\n",
    "    json.dump(country, ex2)\n",
    "\n",
    "print(country)"
   ]
  },
  {
   "cell_type": "code",
   "execution_count": 8,
   "id": "330af0f7",
   "metadata": {},
   "outputs": [
    {
     "name": "stdout",
     "output_type": "stream",
     "text": [
      "Enter the name of a country to delete: UAE\n",
      "UAE' deleted from the JSON data.\n",
      "[{'country': 'Oman', 'capital': 'Muscat', 'languages': 'Arabic'}, {'country': 'India', 'capital': 'New Delhi', 'languages': 'Hindi'}, {'country': 'Saudi Arabia', 'capital': 'Riyadh', 'languages': 'Arabic'}, {'country': 'Qater', 'capital': 'Doha', 'languages': 'Arabic'}]\n"
     ]
    }
   ],
   "source": [
    "#enter name of country\n",
    "entercountry = input(\"Enter the name of a country to delete: \")\n",
    "\n",
    "countryfound = False\n",
    "\n",
    "# Search for the country in the data\n",
    "for c in country:\n",
    "    if c[\"country\"] == entercountry:\n",
    "        country.remove(c)\n",
    "        countryfound = True\n",
    "        break\n",
    "\n",
    "# delet  name of country\n",
    "if countryfound:\n",
    "    with open('ex2.json', 'w') as ex2:\n",
    "        json.dump(country, ex2)\n",
    "    print(f\"{entercountry}' deleted from the JSON data.\")\n",
    "else:\n",
    "    print(f\"{entercountry}' not found in the JSON data.\")\n",
    "    \n",
    "    \n",
    "print(country)"
   ]
  },
  {
   "cell_type": "code",
   "execution_count": null,
   "id": "f7a9eb2f",
   "metadata": {},
   "outputs": [],
   "source": []
  }
 ],
 "metadata": {
  "kernelspec": {
   "display_name": "Python 3 (ipykernel)",
   "language": "python",
   "name": "python3"
  },
  "language_info": {
   "codemirror_mode": {
    "name": "ipython",
    "version": 3
   },
   "file_extension": ".py",
   "mimetype": "text/x-python",
   "name": "python",
   "nbconvert_exporter": "python",
   "pygments_lexer": "ipython3",
   "version": "3.10.9"
  }
 },
 "nbformat": 4,
 "nbformat_minor": 5
}
