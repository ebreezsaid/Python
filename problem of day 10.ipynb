{
 "cells": [
  {
   "cell_type": "code",
   "execution_count": 2,
   "id": "6b304a1a",
   "metadata": {},
   "outputs": [
    {
     "name": "stdout",
     "output_type": "stream",
     "text": [
      "Yes, the array contains all elements in the range.\n"
     ]
    }
   ],
   "source": [
    "def contains_elements_in_range(arr, A, B):\n",
    "    for num in arr:\n",
    "        if A <= num <= B:\n",
    "            A = max(A, num + 1)  # Update A to the next required value\n",
    "        \n",
    "        if A > B:  # If A exceeds B, all elements in the range are found\n",
    "            return True\n",
    "    \n",
    "    return False\n",
    "\n",
    "# Example usage\n",
    "\n",
    "N = 7\n",
    "A = 2\n",
    "B = 5\n",
    "arr = [1, 4, 5, 2, 7, 8, 3]\n",
    "\n",
    " \n",
    "\n",
    "\n",
    "result = contains_elements_in_range(arr, A, B)\n",
    "if result:\n",
    "    print(\"Yes, the array contains all elements in the range.\")\n",
    "else:\n",
    "    print(\"No, the array does not contain all elements in the range.\")\n"
   ]
  },
  {
   "cell_type": "code",
   "execution_count": null,
   "id": "a2f2bf38",
   "metadata": {},
   "outputs": [],
   "source": []
  },
  {
   "cell_type": "code",
   "execution_count": null,
   "id": "abbb2e75",
   "metadata": {},
   "outputs": [],
   "source": []
  }
 ],
 "metadata": {
  "kernelspec": {
   "display_name": "Python 3 (ipykernel)",
   "language": "python",
   "name": "python3"
  },
  "language_info": {
   "codemirror_mode": {
    "name": "ipython",
    "version": 3
   },
   "file_extension": ".py",
   "mimetype": "text/x-python",
   "name": "python",
   "nbconvert_exporter": "python",
   "pygments_lexer": "ipython3",
   "version": "3.11.4"
  }
 },
 "nbformat": 4,
 "nbformat_minor": 5
}
