{
 "cells": [
  {
   "cell_type": "code",
   "execution_count": 1,
   "id": "30493244",
   "metadata": {},
   "outputs": [
    {
     "name": "stdout",
     "output_type": "stream",
     "text": [
      "[0, 1, 2, 3]\n"
     ]
    }
   ],
   "source": [
    "def generate_distinct_sums(nums):\n",
    "    distinct_sums = set()\n",
    "    distinct_sums.add(0)  # Adding 0 to cover the empty subset case\n",
    "\n",
    "    for num in nums:\n",
    "        new_sums = set()\n",
    "        for s in distinct_sums:\n",
    "            new_sums.add(s + num)\n",
    "        distinct_sums.update(new_sums)\n",
    "\n",
    "    return sorted(list(distinct_sums))\n",
    "\n",
    "# Input set of integers\n",
    "num = [1, 2]\n",
    "\n",
    "# Find distinct sums of subsets\n",
    "output = generate_distinct_sums(num)\n",
    "print(output)  # Output: [0, 1, 2, 3]\n"
   ]
  },
  {
   "cell_type": "code",
   "execution_count": null,
   "id": "bddab3d6",
   "metadata": {},
   "outputs": [],
   "source": []
  },
  {
   "cell_type": "code",
   "execution_count": null,
   "id": "19646bde",
   "metadata": {},
   "outputs": [],
   "source": []
  }
 ],
 "metadata": {
  "kernelspec": {
   "display_name": "Python 3 (ipykernel)",
   "language": "python",
   "name": "python3"
  },
  "language_info": {
   "codemirror_mode": {
    "name": "ipython",
    "version": 3
   },
   "file_extension": ".py",
   "mimetype": "text/x-python",
   "name": "python",
   "nbconvert_exporter": "python",
   "pygments_lexer": "ipython3",
   "version": "3.11.4"
  }
 },
 "nbformat": 4,
 "nbformat_minor": 5
}
