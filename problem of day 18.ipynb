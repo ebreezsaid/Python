{
 "cells": [
  {
   "cell_type": "code",
   "execution_count": 1,
   "id": "d44feaca",
   "metadata": {},
   "outputs": [
    {
     "name": "stdout",
     "output_type": "stream",
     "text": [
      "4\n"
     ]
    }
   ],
   "source": [
    "def max_meetings(N, start, end):\n",
    "    meetings = [(start[i], end[i], i) for i in range(N)]\n",
    "    meetings.sort(key=lambda x: x[1])  # Sort by end times\n",
    "    \n",
    "    maxMeetings = 0\n",
    "    prevEndTime = -1\n",
    "    \n",
    "    for meeting in meetings:\n",
    "        if meeting[0] >= prevEndTime:\n",
    "            maxMeetings += 1\n",
    "            prevEndTime = meeting[1]\n",
    "    \n",
    "    return maxMeetings\n",
    "\n",
    "# Example input\n",
    "N = 6\n",
    "start = [1, 3, 0, 5, 8, 5]\n",
    "end = [2, 4, 6, 7, 9, 9]\n",
    "output = max_meetings(N, start, end)\n",
    "print(output)  # Output: 4\n"
   ]
  },
  {
   "cell_type": "code",
   "execution_count": null,
   "id": "35b3d18b",
   "metadata": {},
   "outputs": [],
   "source": []
  }
 ],
 "metadata": {
  "kernelspec": {
   "display_name": "Python 3 (ipykernel)",
   "language": "python",
   "name": "python3"
  },
  "language_info": {
   "codemirror_mode": {
    "name": "ipython",
    "version": 3
   },
   "file_extension": ".py",
   "mimetype": "text/x-python",
   "name": "python",
   "nbconvert_exporter": "python",
   "pygments_lexer": "ipython3",
   "version": "3.11.4"
  }
 },
 "nbformat": 4,
 "nbformat_minor": 5
}
