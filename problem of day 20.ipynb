{
 "cells": [
  {
   "cell_type": "code",
   "execution_count": 1,
   "id": "5fa2eecf",
   "metadata": {},
   "outputs": [
    {
     "name": "stdout",
     "output_type": "stream",
     "text": [
      "10\n"
     ]
    }
   ],
   "source": [
    "def trapped_water(arr):\n",
    "    n = len(arr)\n",
    "    if n <= 2:\n",
    "        return 0\n",
    "    \n",
    "    left_max = [0] * n\n",
    "    right_max = [0] * n\n",
    "    \n",
    "    left_max[0] = arr[0]\n",
    "    for i in range(1, n):\n",
    "        left_max[i] = max(left_max[i - 1], arr[i])\n",
    "    \n",
    "    right_max[n - 1] = arr[n - 1]\n",
    "    for i in range(n - 2, -1, -1):\n",
    "        right_max[i] = max(right_max[i + 1], arr[i])\n",
    "    \n",
    "    trapped_water = 0\n",
    "    for i in range(n):\n",
    "        trapped_water += max(0, min(left_max[i], right_max[i]) - arr[i])\n",
    "    \n",
    "    return trapped_water\n",
    "\n",
    "# Example input\n",
    "arr = [3, 0, 0, 2, 0, 4]\n",
    "output = trapped_water(arr)\n",
    "print(output)  # Output: 10\n"
   ]
  },
  {
   "cell_type": "code",
   "execution_count": null,
   "id": "5598c30e",
   "metadata": {},
   "outputs": [],
   "source": []
  }
 ],
 "metadata": {
  "kernelspec": {
   "display_name": "Python 3 (ipykernel)",
   "language": "python",
   "name": "python3"
  },
  "language_info": {
   "codemirror_mode": {
    "name": "ipython",
    "version": 3
   },
   "file_extension": ".py",
   "mimetype": "text/x-python",
   "name": "python",
   "nbconvert_exporter": "python",
   "pygments_lexer": "ipython3",
   "version": "3.11.4"
  }
 },
 "nbformat": 4,
 "nbformat_minor": 5
}
