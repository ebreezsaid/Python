{
 "cells": [
  {
   "cell_type": "code",
   "execution_count": 2,
   "id": "c3592b9c",
   "metadata": {},
   "outputs": [
    {
     "name": "stdout",
     "output_type": "stream",
     "text": [
      "Original linked list:\n",
      "1 -> 2 -> 3 -> 4 -> 5 -> None\n",
      "Linked list after reversing parts:\n",
      "2 -> 1 -> 4 -> 3 -> 5 -> None\n"
     ]
    }
   ],
   "source": [
    "class ListNode:\n",
    "    def __init__(self, val=0, next=None):\n",
    "        self.val = val\n",
    "        self.next = next\n",
    "\n",
    "def reverse_part_linked_list(head, k):\n",
    "    prev = None\n",
    "    current = head\n",
    "    count = 0\n",
    "    \n",
    "    while current is not None and count < k:\n",
    "        next_node = current.next\n",
    "        current.next = prev\n",
    "        prev = current\n",
    "        current = next_node\n",
    "        count += 1\n",
    "    \n",
    "    if current is not None:\n",
    "        head.next = reverse_part_linked_list(current, k)\n",
    "    \n",
    "    return prev\n",
    "\n",
    "# Example usage\n",
    "def print_linked_list(head):\n",
    "    current = head\n",
    "    while current is not None:\n",
    "        print(current.val, end=\" -> \")\n",
    "        current = current.next\n",
    "    print(\"None\")\n",
    "\n",
    "# Creating a sample linked list: 1 -> 2 -> 3 -> 4 -> 5\n",
    "nodes = [ListNode(i) for i in range(1, 6)]\n",
    "for i in range(4):\n",
    "    nodes[i].next = nodes[i+1]\n",
    "\n",
    "head = nodes[0]\n",
    "k = 2\n",
    "\n",
    "print(\"Original linked list:\")\n",
    "print_linked_list(head)\n",
    "\n",
    "new_head = reverse_part_linked_list(head, k)\n",
    "print(\"Linked list after reversing parts:\")\n",
    "print_linked_list(new_head)\n"
   ]
  },
  {
   "cell_type": "code",
   "execution_count": null,
   "id": "aa7c23ba",
   "metadata": {},
   "outputs": [],
   "source": []
  }
 ],
 "metadata": {
  "kernelspec": {
   "display_name": "Python 3 (ipykernel)",
   "language": "python",
   "name": "python3"
  },
  "language_info": {
   "codemirror_mode": {
    "name": "ipython",
    "version": 3
   },
   "file_extension": ".py",
   "mimetype": "text/x-python",
   "name": "python",
   "nbconvert_exporter": "python",
   "pygments_lexer": "ipython3",
   "version": "3.11.4"
  }
 },
 "nbformat": 4,
 "nbformat_minor": 5
}
