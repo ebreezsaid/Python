{
 "cells": [
  {
   "cell_type": "code",
   "execution_count": 1,
   "id": "865e91f8",
   "metadata": {},
   "outputs": [
    {
     "name": "stdout",
     "output_type": "stream",
     "text": [
      "Enter the username: sara\n",
      "The gender of the user with username 'sara' is: girl\n"
     ]
    }
   ],
   "source": [
    "def find(username):\n",
    "    if len(username) % 2 == 1:\n",
    "        return \"boy\"\n",
    "    else:\n",
    "        return \"girl\"\n",
    "\n",
    "\n",
    "username = input(\"Enter the username: \")\n",
    "\n",
    "\n",
    "gender = find(username)\n",
    "\n",
    "print(f\"The gender of the user with username '{username}' is: {gender}\")"
   ]
  },
  {
   "cell_type": "code",
   "execution_count": null,
   "id": "8a6d85ec",
   "metadata": {},
   "outputs": [],
   "source": []
  }
 ],
 "metadata": {
  "kernelspec": {
   "display_name": "Python 3 (ipykernel)",
   "language": "python",
   "name": "python3"
  },
  "language_info": {
   "codemirror_mode": {
    "name": "ipython",
    "version": 3
   },
   "file_extension": ".py",
   "mimetype": "text/x-python",
   "name": "python",
   "nbconvert_exporter": "python",
   "pygments_lexer": "ipython3",
   "version": "3.10.9"
  }
 },
 "nbformat": 4,
 "nbformat_minor": 5
}
